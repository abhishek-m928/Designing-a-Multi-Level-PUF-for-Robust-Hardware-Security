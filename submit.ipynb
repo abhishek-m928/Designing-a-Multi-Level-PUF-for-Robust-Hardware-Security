{
  "cells": [
    {
      "cell_type": "markdown",
      "metadata": {
        "id": "view-in-github",
        "colab_type": "text"
      },
      "source": [
        "<a href=\"https://colab.research.google.com/github/abhishek-m928/Designing-a-Multi-Level-PUF-for-Robust-Hardware-Security/blob/main/submit.ipynb\" target=\"_parent\"><img src=\"https://colab.research.google.com/assets/colab-badge.svg\" alt=\"Open In Colab\"/></a>"
      ]
    },
    {
      "cell_type": "code",
      "source": [],
      "metadata": {
        "id": "-ZoxTiQZJmNR"
      },
      "execution_count": null,
      "outputs": []
    },
    {
      "cell_type": "code",
      "execution_count": null,
      "metadata": {
        "id": "FDmvx0iLTj49"
      },
      "outputs": [],
      "source": [
        "import numpy as np\n",
        "import sklearn\n",
        "from scipy.linalg import khatri_rao\n",
        "from itertools import combinations\n",
        "from sklearn.linear_model import LogisticRegression\n",
        "from sklearn.model_selection import train_test_split\n",
        "from sklearn.metrics import accuracy_score\n",
        "from sklearn.svm import LinearSVC\n",
        "from sklearn.svm import SVC\n",
        "import time as tm"
      ]
    },
    {
      "cell_type": "code",
      "execution_count": null,
      "metadata": {
        "id": "AuHOAGFUTj4_",
        "outputId": "d4a32600-bb89-4a3d-96f8-92835c7ec121",
        "colab": {
          "base_uri": "https://localhost:8080/",
          "height": 329
        }
      },
      "outputs": [
        {
          "output_type": "error",
          "ename": "FileNotFoundError",
          "evalue": "public_trn.txt not found.",
          "traceback": [
            "\u001b[0;31m---------------------------------------------------------------------------\u001b[0m",
            "\u001b[0;31mFileNotFoundError\u001b[0m                         Traceback (most recent call last)",
            "\u001b[0;32m/tmp/ipython-input-2-396108750.py\u001b[0m in \u001b[0;36m<cell line: 0>\u001b[0;34m()\u001b[0m\n\u001b[0;32m----> 1\u001b[0;31m \u001b[0mc\u001b[0m \u001b[0;34m=\u001b[0m \u001b[0mnp\u001b[0m\u001b[0;34m.\u001b[0m\u001b[0mloadtxt\u001b[0m\u001b[0;34m(\u001b[0m\u001b[0;34m'public_trn.txt'\u001b[0m\u001b[0;34m)\u001b[0m\u001b[0;34m\u001b[0m\u001b[0;34m\u001b[0m\u001b[0m\n\u001b[0m\u001b[1;32m      2\u001b[0m \u001b[0mz\u001b[0m \u001b[0;34m=\u001b[0m \u001b[0mc\u001b[0m\u001b[0;34m[\u001b[0m\u001b[0;34m:\u001b[0m\u001b[0;34m,\u001b[0m \u001b[0;34m:\u001b[0m\u001b[0;34m-\u001b[0m\u001b[0;36m1\u001b[0m\u001b[0;34m]\u001b[0m  \u001b[0;31m# All columns except the last\u001b[0m\u001b[0;34m\u001b[0m\u001b[0;34m\u001b[0m\u001b[0m\n\u001b[1;32m      3\u001b[0m \u001b[0my_train\u001b[0m \u001b[0;34m=\u001b[0m \u001b[0mc\u001b[0m\u001b[0;34m[\u001b[0m\u001b[0;34m:\u001b[0m\u001b[0;34m,\u001b[0m \u001b[0;34m-\u001b[0m\u001b[0;36m1\u001b[0m\u001b[0;34m]\u001b[0m\u001b[0;34m\u001b[0m\u001b[0;34m\u001b[0m\u001b[0m\n",
            "\u001b[0;32m/usr/local/lib/python3.11/dist-packages/numpy/lib/_npyio_impl.py\u001b[0m in \u001b[0;36mloadtxt\u001b[0;34m(fname, dtype, comments, delimiter, converters, skiprows, usecols, unpack, ndmin, encoding, max_rows, quotechar, like)\u001b[0m\n\u001b[1;32m   1379\u001b[0m         \u001b[0mdelimiter\u001b[0m \u001b[0;34m=\u001b[0m \u001b[0mdelimiter\u001b[0m\u001b[0;34m.\u001b[0m\u001b[0mdecode\u001b[0m\u001b[0;34m(\u001b[0m\u001b[0;34m'latin1'\u001b[0m\u001b[0;34m)\u001b[0m\u001b[0;34m\u001b[0m\u001b[0;34m\u001b[0m\u001b[0m\n\u001b[1;32m   1380\u001b[0m \u001b[0;34m\u001b[0m\u001b[0m\n\u001b[0;32m-> 1381\u001b[0;31m     arr = _read(fname, dtype=dtype, comment=comment, delimiter=delimiter,\n\u001b[0m\u001b[1;32m   1382\u001b[0m                 \u001b[0mconverters\u001b[0m\u001b[0;34m=\u001b[0m\u001b[0mconverters\u001b[0m\u001b[0;34m,\u001b[0m \u001b[0mskiplines\u001b[0m\u001b[0;34m=\u001b[0m\u001b[0mskiprows\u001b[0m\u001b[0;34m,\u001b[0m \u001b[0musecols\u001b[0m\u001b[0;34m=\u001b[0m\u001b[0musecols\u001b[0m\u001b[0;34m,\u001b[0m\u001b[0;34m\u001b[0m\u001b[0;34m\u001b[0m\u001b[0m\n\u001b[1;32m   1383\u001b[0m                 \u001b[0munpack\u001b[0m\u001b[0;34m=\u001b[0m\u001b[0munpack\u001b[0m\u001b[0;34m,\u001b[0m \u001b[0mndmin\u001b[0m\u001b[0;34m=\u001b[0m\u001b[0mndmin\u001b[0m\u001b[0;34m,\u001b[0m \u001b[0mencoding\u001b[0m\u001b[0;34m=\u001b[0m\u001b[0mencoding\u001b[0m\u001b[0;34m,\u001b[0m\u001b[0;34m\u001b[0m\u001b[0;34m\u001b[0m\u001b[0m\n",
            "\u001b[0;32m/usr/local/lib/python3.11/dist-packages/numpy/lib/_npyio_impl.py\u001b[0m in \u001b[0;36m_read\u001b[0;34m(fname, delimiter, comment, quote, imaginary_unit, usecols, skiplines, max_rows, converters, ndmin, unpack, dtype, encoding)\u001b[0m\n\u001b[1;32m    995\u001b[0m             \u001b[0mfname\u001b[0m \u001b[0;34m=\u001b[0m \u001b[0mos\u001b[0m\u001b[0;34m.\u001b[0m\u001b[0mfspath\u001b[0m\u001b[0;34m(\u001b[0m\u001b[0mfname\u001b[0m\u001b[0;34m)\u001b[0m\u001b[0;34m\u001b[0m\u001b[0;34m\u001b[0m\u001b[0m\n\u001b[1;32m    996\u001b[0m         \u001b[0;32mif\u001b[0m \u001b[0misinstance\u001b[0m\u001b[0;34m(\u001b[0m\u001b[0mfname\u001b[0m\u001b[0;34m,\u001b[0m \u001b[0mstr\u001b[0m\u001b[0;34m)\u001b[0m\u001b[0;34m:\u001b[0m\u001b[0;34m\u001b[0m\u001b[0;34m\u001b[0m\u001b[0m\n\u001b[0;32m--> 997\u001b[0;31m             \u001b[0mfh\u001b[0m \u001b[0;34m=\u001b[0m \u001b[0mnp\u001b[0m\u001b[0;34m.\u001b[0m\u001b[0mlib\u001b[0m\u001b[0;34m.\u001b[0m\u001b[0m_datasource\u001b[0m\u001b[0;34m.\u001b[0m\u001b[0mopen\u001b[0m\u001b[0;34m(\u001b[0m\u001b[0mfname\u001b[0m\u001b[0;34m,\u001b[0m \u001b[0;34m'rt'\u001b[0m\u001b[0;34m,\u001b[0m \u001b[0mencoding\u001b[0m\u001b[0;34m=\u001b[0m\u001b[0mencoding\u001b[0m\u001b[0;34m)\u001b[0m\u001b[0;34m\u001b[0m\u001b[0;34m\u001b[0m\u001b[0m\n\u001b[0m\u001b[1;32m    998\u001b[0m             \u001b[0;32mif\u001b[0m \u001b[0mencoding\u001b[0m \u001b[0;32mis\u001b[0m \u001b[0;32mNone\u001b[0m\u001b[0;34m:\u001b[0m\u001b[0;34m\u001b[0m\u001b[0;34m\u001b[0m\u001b[0m\n\u001b[1;32m    999\u001b[0m                 \u001b[0mencoding\u001b[0m \u001b[0;34m=\u001b[0m \u001b[0mgetattr\u001b[0m\u001b[0;34m(\u001b[0m\u001b[0mfh\u001b[0m\u001b[0;34m,\u001b[0m \u001b[0;34m'encoding'\u001b[0m\u001b[0;34m,\u001b[0m \u001b[0;34m'latin1'\u001b[0m\u001b[0;34m)\u001b[0m\u001b[0;34m\u001b[0m\u001b[0;34m\u001b[0m\u001b[0m\n",
            "\u001b[0;32m/usr/local/lib/python3.11/dist-packages/numpy/lib/_datasource.py\u001b[0m in \u001b[0;36mopen\u001b[0;34m(path, mode, destpath, encoding, newline)\u001b[0m\n\u001b[1;32m    190\u001b[0m \u001b[0;34m\u001b[0m\u001b[0m\n\u001b[1;32m    191\u001b[0m     \u001b[0mds\u001b[0m \u001b[0;34m=\u001b[0m \u001b[0mDataSource\u001b[0m\u001b[0;34m(\u001b[0m\u001b[0mdestpath\u001b[0m\u001b[0;34m)\u001b[0m\u001b[0;34m\u001b[0m\u001b[0;34m\u001b[0m\u001b[0m\n\u001b[0;32m--> 192\u001b[0;31m     \u001b[0;32mreturn\u001b[0m \u001b[0mds\u001b[0m\u001b[0;34m.\u001b[0m\u001b[0mopen\u001b[0m\u001b[0;34m(\u001b[0m\u001b[0mpath\u001b[0m\u001b[0;34m,\u001b[0m \u001b[0mmode\u001b[0m\u001b[0;34m,\u001b[0m \u001b[0mencoding\u001b[0m\u001b[0;34m=\u001b[0m\u001b[0mencoding\u001b[0m\u001b[0;34m,\u001b[0m \u001b[0mnewline\u001b[0m\u001b[0;34m=\u001b[0m\u001b[0mnewline\u001b[0m\u001b[0;34m)\u001b[0m\u001b[0;34m\u001b[0m\u001b[0;34m\u001b[0m\u001b[0m\n\u001b[0m\u001b[1;32m    193\u001b[0m \u001b[0;34m\u001b[0m\u001b[0m\n\u001b[1;32m    194\u001b[0m \u001b[0;34m\u001b[0m\u001b[0m\n",
            "\u001b[0;32m/usr/local/lib/python3.11/dist-packages/numpy/lib/_datasource.py\u001b[0m in \u001b[0;36mopen\u001b[0;34m(self, path, mode, encoding, newline)\u001b[0m\n\u001b[1;32m    530\u001b[0m                                       encoding=encoding, newline=newline)\n\u001b[1;32m    531\u001b[0m         \u001b[0;32melse\u001b[0m\u001b[0;34m:\u001b[0m\u001b[0;34m\u001b[0m\u001b[0;34m\u001b[0m\u001b[0m\n\u001b[0;32m--> 532\u001b[0;31m             \u001b[0;32mraise\u001b[0m \u001b[0mFileNotFoundError\u001b[0m\u001b[0;34m(\u001b[0m\u001b[0;34mf\"{path} not found.\"\u001b[0m\u001b[0;34m)\u001b[0m\u001b[0;34m\u001b[0m\u001b[0;34m\u001b[0m\u001b[0m\n\u001b[0m\u001b[1;32m    533\u001b[0m \u001b[0;34m\u001b[0m\u001b[0m\n\u001b[1;32m    534\u001b[0m \u001b[0;34m\u001b[0m\u001b[0m\n",
            "\u001b[0;31mFileNotFoundError\u001b[0m: public_trn.txt not found."
          ]
        }
      ],
      "source": [
        "c = np.loadtxt('public_trn.txt')\n",
        "z = c[:, :-1]  # All columns except the last\n",
        "y_train = c[:, -1]"
      ]
    },
    {
      "cell_type": "code",
      "execution_count": null,
      "metadata": {
        "id": "e9Tf29aXTj5A"
      },
      "outputs": [],
      "source": [
        "def my_map(z):\n",
        "    # Step 1: Convert z (binary) to d ∈ {-1, 1}\n",
        "    d = 1 - 2 * z  # vector of shape (8,)\n",
        "\n",
        "    # Step 2: Build phi vector\n",
        "    phi = list(d)  # original d1 to d8\n",
        "    temp = d[0]\n",
        "    for j in range(1, len(d)):\n",
        "        temp *= d[j]\n",
        "        phi.append(temp)\n",
        "\n",
        "    phi = np.array(phi)  # shape (15,)\n",
        "    n_features = len(phi)\n",
        "    # feature_map = np.zeros((1, (n_features * (n_features - 1)) // 2))  # 105 pairs (for phi size 15)\n",
        "\n",
        "    # k = 0  # To index into the feature_map\n",
        "    # for i in range(n_features):\n",
        "    #     for j in range(i + 1, n_features):\n",
        "    #         feature_map[0, k] = phi[i] * phi[j]\n",
        "    #         k += 1  # Increment index in feature_map\n",
        "    phi_matrix = np.reshape(phi, (len(phi), 1))\n",
        "    feat = khatri_rao(phi_matrix,phi_matrix)\n",
        "    return feat  # shape (1, 105) j]"
      ]
    },
    {
      "cell_type": "code",
      "execution_count": null,
      "metadata": {
        "id": "pet0H-zrTj5A"
      },
      "outputs": [],
      "source": [
        "def my_fit(X, y):\n",
        "    # Assuming X has shape (n_samples, 8) and y has shape (n_samples,)\n",
        "\n",
        "    # Step 1: Apply my_map to each sample to get the feature map\n",
        "    features = np.array([my_map(x) for x in X])  # shape (n_samples, 1, 105)\n",
        "    features = features.reshape(X.shape[0], -1)  # Flatten to shape (n_samples, 105)\n",
        "\n",
        "    # Step 2: Train SVM classifier\n",
        "    # model = SVC(kernel='poly',degree=8)\n",
        "    model = LinearSVC(loss='hinge',C=1)\n",
        "    # model = LogisticRegression(C= 1, penalty='l1',solver='liblinear')\n",
        "    model.fit(features, y)\n",
        "    print(model.intercept_,model.coef_)\n",
        "    return model\n",
        "\n"
      ]
    },
    {
      "cell_type": "code",
      "execution_count": null,
      "metadata": {
        "id": "5rse0fvITj5B"
      },
      "outputs": [],
      "source": [
        "ti = tm.perf_counter()\n",
        "svm = my_fit(z,y_train)\n",
        "tc =  tm.perf_counter()\n",
        "print(tc-ti)"
      ]
    },
    {
      "cell_type": "code",
      "execution_count": null,
      "metadata": {
        "id": "-G5iOR2_Tj5B"
      },
      "outputs": [],
      "source": [
        "import numpy as np\n",
        "import time as tm\n",
        "from sklearn.metrics import accuracy_score\n",
        "\n",
        "# Load the test data\n",
        "ct = np.loadtxt('public_tst.txt')\n",
        "\n",
        "# Split into features and labels\n",
        "z = ct[:, :-1]\n",
        "y_test = ct[:, -1]\n",
        "\n",
        "# Number of runs\n",
        "runs = 8\n",
        "times = []\n",
        "\n",
        "for _ in range(runs):\n",
        "    l = []\n",
        "    ti = tm.perf_counter()\n",
        "    for i in range(z.shape[0]):\n",
        "        row = my_map(z[i])  # Assuming this returns shape (1, 105)\n",
        "        l.append(row.flatten())\n",
        "    tc = tm.perf_counter()\n",
        "    times.append((tc - ti) / z.shape[0])  # Time per sample\n",
        "\n",
        "# Convert to array once after timing\n",
        "l = np.array(l)\n",
        "\n",
        "# Predict using trained SVM\n",
        "yp = svm.predict(l)\n",
        "\n",
        "# Calculate accuracy\n",
        "acc = accuracy_score(yp, y_test)\n",
        "\n",
        "print(f\"Accuracy: {acc * 100:.2f}%\")\n",
        "print(f\"Average mapping time per sample over {runs} runs: {np.mean(times):.6f} seconds\")\n",
        "print(f\"Feature map shape for one sample: {row.shape}\")\n"
      ]
    },
    {
      "cell_type": "code",
      "source": [
        "def my_decode(X):\n",
        "    p = np.zeros(64)\n",
        "    q = np.zeros(64)\n",
        "    r = np.zeros(64)\n",
        "    s = np.zeros(64)\n",
        "\n",
        "    for i in range(63):\n",
        "        if X[i] >= 0:\n",
        "            p[i] = r[i] = X[i]\n",
        "        else:\n",
        "            q[i] = s[i] = -X[i]\n",
        "\n",
        "    total = X[63] + X[64]\n",
        "    difference = X[63] - X[64]\n",
        "\n",
        "    if total >= 0:\n",
        "        p[63] = total\n",
        "    else:\n",
        "        q[63] = -total\n",
        "\n",
        "    if difference >= 0:\n",
        "        r[63] = difference\n",
        "    else:\n",
        "        s[63] = -difference\n",
        "\n",
        "    return p, q, r, s"
      ],
      "metadata": {
        "id": "AcYOzAKrVzLz"
      },
      "execution_count": null,
      "outputs": []
    },
    {
      "cell_type": "code",
      "source": [
        "# def my_decode(model_params):\n",
        "#     \"\"\"Recovers non-negative delays from linear model parameters\"\"\"\n",
        "#     if model_params is None or len(model_params) != 65:\n",
        "#         raise ValueError(\"model_params must be a 65-element array\")\n",
        "\n",
        "#     w = model_params[:-1]\n",
        "#     b = model_params[-1]\n",
        "#     n = len(w)\n",
        "\n",
        "#     # Backward calculation of beta and alpha\n",
        "#     alpha = np.zeros(n)\n",
        "#     beta = np.zeros(n)\n",
        "#     beta[n-1] = b\n",
        "#     for i in range(0, n-1):\n",
        "#         alpha[i] = w[i]\n",
        "#     alpha[n-1] = w[n-1] - beta[n-1]\n",
        "\n",
        "#     p = np.zeros(n)\n",
        "#     q = np.zeros(n)\n",
        "#     r = np.zeros(n)\n",
        "#     s = np.zeros(n)\n",
        "#     pq = alpha + beta\n",
        "#     rs = alpha - beta\n",
        "#     # Non-negative delays\n",
        "#     for i in range(n):\n",
        "#         if pq[i] >= 0:\n",
        "#             p[i] = pq[i]\n",
        "#         else:\n",
        "#             q[i] = -pq[i]\n",
        "#     for i in range(n):\n",
        "#         if rs[i] >= 0:\n",
        "#             r[i] = rs[i]\n",
        "#         else:\n",
        "#             s[i] = -rs[i]\n",
        "\n",
        "#     return p, q, r, s"
      ],
      "metadata": {
        "id": "PYDCDXTV6sJV"
      },
      "execution_count": null,
      "outputs": []
    },
    {
      "cell_type": "code",
      "source": [
        "\n",
        "def invert_model(w):\n",
        "    alpha = w[:-1]\n",
        "    beta = w[1:] - w[:-1]\n",
        "    d = alpha + beta\n",
        "    c = alpha - beta\n",
        "\n",
        "    # Decompose into non-negative components\n",
        "    p = np.maximum(d, 0)\n",
        "    q = np.maximum(-d, 0)\n",
        "    r = np.maximum(c, 0)\n",
        "    s = np.maximum(-c, 0)\n",
        "\n",
        "    return p, q, r, s\n"
      ],
      "metadata": {
        "id": "qUMSFEg599ML"
      },
      "execution_count": null,
      "outputs": []
    },
    {
      "cell_type": "code",
      "execution_count": null,
      "metadata": {
        "id": "mx2pwFtuTj5B"
      },
      "outputs": [],
      "source": [
        "def get_model( p, q, r, s ):\n",
        "  p = np.maximum( p, 0 )\n",
        "  q = np.maximum( q, 0 )\n",
        "  r = np.maximum( r, 0 )\n",
        "  s = np.maximum( s, 0 )\n",
        "  d = p - q\n",
        "  c = r - s\n",
        "  alpha = ( d + c ) / 2\n",
        "  beta = ( d - c ) / 2\n",
        "  w = np.zeros( ( len( alpha ) + 1, )  )\n",
        "  w[:-1] += alpha\n",
        "  w[1:] += beta\n",
        "  return w"
      ]
    },
    {
      "cell_type": "code",
      "source": [
        "import numpy as np\n",
        "import time as tm\n",
        "W = np.loadtxt( \"public_mod.txt\" )\n",
        "( n_models, dims ) = W.shape\n",
        "t_decode = 0\n",
        "m_dist = 0\n",
        "for t in range(5):\n",
        "  for itr in range( n_models ):\n",
        "    w = W[ itr, : ]\n",
        "    tic = tm.perf_counter()\n",
        "    p_hat, q_hat, r_hat, s_hat = invert_model( w )\n",
        "    for qt in s_hat :\n",
        "      if(qt<0):\n",
        "        print(qt)\n",
        "    toc = tm.perf_counter()\n",
        "    t_decode += toc - tic\n",
        "    w_hat = get_model( p_hat, q_hat, r_hat, s_hat )\n",
        "    m_dist += np.linalg.norm( w - w_hat )"
      ],
      "metadata": {
        "id": "lSbIR_f3caNP"
      },
      "execution_count": null,
      "outputs": []
    },
    {
      "cell_type": "code",
      "source": [
        "print(m_dist/n_models)\n",
        "print(t_decode/n_models)"
      ],
      "metadata": {
        "id": "bOo-G5rsblKa"
      },
      "execution_count": null,
      "outputs": []
    },
    {
      "cell_type": "code",
      "source": [
        "print(\"hello\")"
      ],
      "metadata": {
        "id": "j7fUVkk11Aog"
      },
      "execution_count": null,
      "outputs": []
    },
    {
      "cell_type": "code",
      "source": [],
      "metadata": {
        "id": "ickdZ5Xl1Hy4"
      },
      "execution_count": null,
      "outputs": []
    },
    {
      "cell_type": "code",
      "metadata": {
        "colab": {
          "base_uri": "https://localhost:8080/"
        },
        "id": "847f975e",
        "outputId": "6a12d534-8353-47dc-809a-acc4661e4fc4"
      },
      "source": [
        "!pip install PyMuPDF -qq\n",
        "import fitz # PyMuPDF\n",
        "\n",
        "doc = fitz.open(\"/content/CS771_Assignment_1___The_Optimisers.pdf\")\n",
        "content = \"\"\n",
        "for page_num in range(doc.page_count):\n",
        "    page = doc.load_page(page_num)\n",
        "    content += page.get_text()\n",
        "\n",
        "print(content[:1000])"
      ],
      "execution_count": null,
      "outputs": [
        {
          "output_type": "stream",
          "name": "stdout",
          "text": [
            "\u001b[2K   \u001b[90m━━━━━━━━━━━━━━━━━━━━━━━━━━━━━━━━━━━━━━━━\u001b[0m \u001b[32m24.1/24.1 MB\u001b[0m \u001b[31m82.2 MB/s\u001b[0m eta \u001b[36m0:00:00\u001b[0m\n",
            "\u001b[?25hAssignment 1\n",
            "The Optimisers\n",
            "Group Members:\n",
            "1.\n",
            "Jonna Likith Sai\n",
            "220483\n",
            "2.\n",
            "Sumit Rojaria\n",
            "221104\n",
            "3.\n",
            "Abhishek Kumar\n",
            "220046\n",
            "4.\n",
            "Vivek Goyal\n",
            "221210\n",
            "Date of Submission: May 3rd, 2025\n",
            "University: Indian Institute of Technology Kanpur\n",
            "Course: CS771 Introduction to Machine Learning\n",
            "Instructor: Purushottam Kar\n",
            "Total Marks: 150\n",
            "Contents\n",
            "1\n",
            "Question 1: Multi-level PUF\n",
            "3\n",
            "1.1\n",
            "Introduction and Notations . . . . . . . . . . . . . . . . . . . . . . . . . . . . . .\n",
            "3\n",
            "1.2\n",
            "Mathematical derivation on how a single linear model can predict the responses . .\n",
            "4\n",
            "1.2.1\n",
            "Proof for Linearity of an Arbiter PUF . . . . . . . . . . . . . . . . . . . .\n",
            "4\n",
            "1.2.2\n",
            "Linearity of a Multi Level PUF . . . . . . . . . . . . . . . . . . . . . . . .\n",
            "5\n",
            "1.3\n",
            "Dimensionality of the Feature Map . . . . . . . . . . . . . . . . . . . . . . . . . .\n",
            "7\n",
            "1.4\n",
            "Best Kernel SVM with Hyper parameters\n",
            ". . . . . . . . . . . . . . . . . . . . . .\n",
            "8\n",
            "2\n",
            "Question 2 : Delay retrival from SVM parameters\n",
            "8\n",
            "3\n",
            "Results\n",
            "9\n",
            "3.1\n",
            "Linear SVC . . . . . . . . . . . . . . \n"
          ]
        }
      ]
    }
  ],
  "metadata": {
    "kernelspec": {
      "display_name": "Python 3",
      "language": "python",
      "name": "python3"
    },
    "language_info": {
      "codemirror_mode": {
        "name": "ipython",
        "version": 3
      },
      "file_extension": ".py",
      "mimetype": "text/x-python",
      "name": "python",
      "nbconvert_exporter": "python",
      "pygments_lexer": "ipython3",
      "version": "3.9.9"
    },
    "colab": {
      "provenance": [],
      "include_colab_link": true
    }
  },
  "nbformat": 4,
  "nbformat_minor": 0
}